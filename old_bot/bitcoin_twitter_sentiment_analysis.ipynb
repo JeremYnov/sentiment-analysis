{
 "cells": [
  {
   "cell_type": "code",
   "execution_count": 1,
   "metadata": {},
   "outputs": [],
   "source": [
    "import tweepy \n",
    "import textblob\n",
    "import pandas as pd \n",
    "import numpy as np \n",
    "import matplotlib.pyplot as plt\n",
    "import re \n",
    "import csv"
   ]
  },
  {
   "cell_type": "code",
   "execution_count": 2,
   "metadata": {},
   "outputs": [],
   "source": [
    "class Bot: \n",
    "    def __init__(self,path_to_login,):\n",
    "        self.path_to_login = path_to_login\n",
    "    \n",
    "    # Get tokens\n",
    "    def getTokens(self):\n",
    "        credentials =[]\n",
    "        with open(self.path_to_login, 'r') as file:\n",
    "            csvreader = csv.reader(file)\n",
    "            for row in csvreader:\n",
    "                credentials.append(row)\n",
    "        # Don't return headers\n",
    "        return credentials[1]\n",
    "    \n",
    "    def authentication(self): \n",
    "        tokens = getTokens()\n",
    "        consumerKey = tokens[0]\n",
    "        consumerSecret = tokens[1]\n",
    "        accessToken = tokens[2]\n",
    "        accessTokenSecret = tokens[3]\n",
    "        auth = tweepy.OAuthHandler(consumerKey, consumerSecret)\n",
    "        auth.set_access_token(accessToken, accessTokenSecret)\n",
    "        \n",
    "       \n",
    "bot = Bot('../login.csv')\n"
   ]
  },
  {
   "cell_type": "code",
   "execution_count": 3,
   "metadata": {},
   "outputs": [],
   "source": [
    "# Get tokens\n",
    "def getTokens():\n",
    "    credentials =[]\n",
    "    with open(\"../login.csv\", 'r') as file:\n",
    "        csvreader = csv.reader(file)\n",
    "        for row in csvreader:\n",
    "            credentials.append(row)\n",
    "    # Don't return headers\n",
    "    return credentials[1]"
   ]
  },
  {
   "cell_type": "code",
   "execution_count": 4,
   "metadata": {},
   "outputs": [
    {
     "ename": "FileNotFoundError",
     "evalue": "[Errno 2] No such file or directory: '../login.csv'",
     "output_type": "error",
     "traceback": [
      "\u001b[1;31m---------------------------------------------------------------------------\u001b[0m",
      "\u001b[1;31mFileNotFoundError\u001b[0m                         Traceback (most recent call last)",
      "\u001b[1;32mc:\\Users\\jerem\\Bureau\\twitter-bot\\old_bot\\bitcoin_twitter_sentiment_analysis.ipynb Cell 4'\u001b[0m in \u001b[0;36m<cell line: 1>\u001b[1;34m()\u001b[0m\n\u001b[1;32m----> <a href='vscode-notebook-cell:/c%3A/Users/jerem/Bureau/twitter-bot/old_bot/bitcoin_twitter_sentiment_analysis.ipynb#ch0000003?line=0'>1</a>\u001b[0m tokens \u001b[39m=\u001b[39m getTokens()\n\u001b[0;32m      <a href='vscode-notebook-cell:/c%3A/Users/jerem/Bureau/twitter-bot/old_bot/bitcoin_twitter_sentiment_analysis.ipynb#ch0000003?line=1'>2</a>\u001b[0m consumerKey \u001b[39m=\u001b[39m tokens[\u001b[39m0\u001b[39m]\n\u001b[0;32m      <a href='vscode-notebook-cell:/c%3A/Users/jerem/Bureau/twitter-bot/old_bot/bitcoin_twitter_sentiment_analysis.ipynb#ch0000003?line=2'>3</a>\u001b[0m consumerSecret \u001b[39m=\u001b[39m tokens[\u001b[39m1\u001b[39m]\n",
      "\u001b[1;32mc:\\Users\\jerem\\Bureau\\twitter-bot\\old_bot\\bitcoin_twitter_sentiment_analysis.ipynb Cell 3'\u001b[0m in \u001b[0;36mgetTokens\u001b[1;34m()\u001b[0m\n\u001b[0;32m      <a href='vscode-notebook-cell:/c%3A/Users/jerem/Bureau/twitter-bot/old_bot/bitcoin_twitter_sentiment_analysis.ipynb#ch0000002?line=1'>2</a>\u001b[0m \u001b[39mdef\u001b[39;00m \u001b[39mgetTokens\u001b[39m():\n\u001b[0;32m      <a href='vscode-notebook-cell:/c%3A/Users/jerem/Bureau/twitter-bot/old_bot/bitcoin_twitter_sentiment_analysis.ipynb#ch0000002?line=2'>3</a>\u001b[0m     credentials \u001b[39m=\u001b[39m[]\n\u001b[1;32m----> <a href='vscode-notebook-cell:/c%3A/Users/jerem/Bureau/twitter-bot/old_bot/bitcoin_twitter_sentiment_analysis.ipynb#ch0000002?line=3'>4</a>\u001b[0m     \u001b[39mwith\u001b[39;00m \u001b[39mopen\u001b[39;49m(\u001b[39m\"\u001b[39;49m\u001b[39m../login.csv\u001b[39;49m\u001b[39m\"\u001b[39;49m, \u001b[39m'\u001b[39;49m\u001b[39mr\u001b[39;49m\u001b[39m'\u001b[39;49m) \u001b[39mas\u001b[39;00m file:\n\u001b[0;32m      <a href='vscode-notebook-cell:/c%3A/Users/jerem/Bureau/twitter-bot/old_bot/bitcoin_twitter_sentiment_analysis.ipynb#ch0000002?line=4'>5</a>\u001b[0m         csvreader \u001b[39m=\u001b[39m csv\u001b[39m.\u001b[39mreader(file)\n\u001b[0;32m      <a href='vscode-notebook-cell:/c%3A/Users/jerem/Bureau/twitter-bot/old_bot/bitcoin_twitter_sentiment_analysis.ipynb#ch0000002?line=5'>6</a>\u001b[0m         \u001b[39mfor\u001b[39;00m row \u001b[39min\u001b[39;00m csvreader:\n",
      "\u001b[1;31mFileNotFoundError\u001b[0m: [Errno 2] No such file or directory: '../login.csv'"
     ]
    }
   ],
   "source": [
    "tokens = getTokens()\n",
    "consumerKey = tokens[0]\n",
    "consumerSecret = tokens[1]\n",
    "accessToken = tokens[2]\n",
    "accessTokenSecret = tokens[3]"
   ]
  },
  {
   "cell_type": "code",
   "execution_count": null,
   "metadata": {},
   "outputs": [],
   "source": [
    "auth = tweepy.OAuthHandler(consumerKey, consumerSecret)\n",
    "auth.set_access_token(accessToken, accessTokenSecret)\n",
    "api = tweepy.API(auth, wait_on_rate_limit=True)"
   ]
  },
  {
   "cell_type": "code",
   "execution_count": null,
   "metadata": {},
   "outputs": [],
   "source": [
    "crypto_currency = 'Bitcoin'\n",
    "search = f'{crypto_currency} -filter:retweets'\n",
    "start = \"2022-01-01\"\n",
    "end = \"2022-03-01\""
   ]
  },
  {
   "cell_type": "code",
   "execution_count": null,
   "metadata": {},
   "outputs": [],
   "source": [
    "cursor = tweepy.Cursor(api.search_tweets,q=search, lang='en',until=end,tweet_mode='extended').items(100)"
   ]
  },
  {
   "cell_type": "code",
   "execution_count": null,
   "metadata": {},
   "outputs": [],
   "source": [
    "tweets = [tweet.full_text for tweet in cursor]\n",
    "tweets_df = pd.DataFrame(tweets, columns=['Tweets'])"
   ]
  },
  {
   "cell_type": "code",
   "execution_count": null,
   "metadata": {},
   "outputs": [],
   "source": [
    "for _, row in tweets_df.iterrows():\n",
    "    row['Tweets'] = re.sub('http\\S+','',row['Tweets'])\n",
    "    row['Tweets'] = re.sub('#\\S+','',row['Tweets'])\n",
    "    row['Tweets'] = re.sub('@\\S+','',row['Tweets'])\n",
    "    row['Tweets'] = re.sub('\\\\n','',row['Tweets']) "
   ]
  },
  {
   "cell_type": "code",
   "execution_count": null,
   "metadata": {},
   "outputs": [
    {
     "name": "stdout",
     "output_type": "stream",
     "text": [
      "Series([], Name: Polarity, dtype: object)\n"
     ]
    }
   ],
   "source": [
    "tweets_df['Polarity'] = tweets_df['Tweets'].map(lambda tweet:textblob.TextBlob(tweet).sentiment.polarity)\n",
    "print(tweets_df['Polarity'])\n",
    "tweets_df['Result'] = tweets_df['Polarity'].map(lambda pol: '+' if pol > 0 else ('-' if pol < 0 else '='))"
   ]
  },
  {
   "cell_type": "code",
   "execution_count": null,
   "metadata": {},
   "outputs": [
    {
     "name": "stdout",
     "output_type": "stream",
     "text": [
      "Positive: 0, Negative: 0, Neutral: 0\n"
     ]
    }
   ],
   "source": [
    "positive = tweets_df[tweets_df.Result == '+'].count()['Tweets']\n",
    "negative = tweets_df[tweets_df.Result == '-'].count()['Tweets']\n",
    "neutral = tweets_df[tweets_df.Result == '='].count()['Tweets']\n",
    "\n",
    "print(f'Positive: {positive}, Negative: {negative}, Neutral: {neutral}')"
   ]
  },
  {
   "cell_type": "code",
   "execution_count": null,
   "metadata": {},
   "outputs": [
    {
     "data": {
      "image/png": "[encoded data removed]",
      "text/plain": [
       "<Figure size 432x288 with 1 Axes>"
      ]
     },
     "metadata": {
      "needs_background": "light"
     },
     "output_type": "display_data"
    }
   ],
   "source": [
    "plt.bar([0,1,2], [neutral,positive, negative], label=['Neutral','Positive', 'Negative'], color=['grey', 'green', 'red'])\n",
    "plt.legend()\n",
    "plt.show()"
   ]
  },
  {
   "cell_type": "code",
   "execution_count": null,
   "metadata": {},
   "outputs": [],
   "source": [
    "if __name__ == '__main__':\n",
    "    bot = Bot('../login.csv') "
   ]
  }
 ],
 "metadata": {
  "interpreter": {
   "hash": "67dd3c8b2621c6c89c7862222f9a88ce344d1328b12ab397935bd5ee8108948e"
  },
  "kernelspec": {
   "display_name": "Python 3.10.2 ('venv': venv)",
   "language": "python",
   "name": "python3"
  },
  "language_info": {
   "codemirror_mode": {
    "name": "ipython",
    "version": 3
   },
   "file_extension": ".py",
   "mimetype": "text/x-python",
   "name": "python",
   "nbconvert_exporter": "python",
   "pygments_lexer": "ipython3",
   "version": "3.10.2"
  },
  "orig_nbformat": 4
 },
 "nbformat": 4,
 "nbformat_minor": 2
}
